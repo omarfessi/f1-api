{
 "cells": [
  {
   "cell_type": "code",
   "execution_count": null,
   "metadata": {},
   "outputs": [],
   "source": [
    "import pandas as pd\n",
    "from pandas import json_normalize\n",
    "import requests\n",
    "import numpy as np\n",
    "import psycopg2"
   ]
  },
  {
   "cell_type": "code",
   "execution_count": null,
   "metadata": {},
   "outputs": [],
   "source": [
    "from sql_queries import drivers_table_insert"
   ]
  },
  {
   "cell_type": "markdown",
   "metadata": {},
   "source": [
    "#### Drivers data processing"
   ]
  },
  {
   "cell_type": "code",
   "execution_count": null,
   "metadata": {},
   "outputs": [],
   "source": [
    "\n",
    "response_API = requests.get('http://ergast.com/api/f1/drivers.json?limit=855')\n",
    "print(response_API.status_code)\n",
    "drivers=response_API.json()\n",
    "df = json_normalize(drivers['MRData']['DriverTable']['Drivers']) "
   ]
  },
  {
   "cell_type": "code",
   "execution_count": null,
   "metadata": {},
   "outputs": [],
   "source": [
    "df['permanentNumber'] =df['permanentNumber'].fillna(-99)\n",
    "df['permanentNumber']=df['permanentNumber'].astype(int)\n",
    "df['code'] =df['code'].fillna('NO CODE')\n",
    "df['dateOfBirth'] = pd.to_datetime(df['dateOfBirth'], format=\"%Y/%m/%d\")\n",
    "for str_col in ['driverId', 'url', 'givenName', 'familyName', 'nationality', 'code'] : \n",
    "    df[str_col]= df[str_col].astype('string')"
   ]
  },
  {
   "cell_type": "code",
   "execution_count": null,
   "metadata": {},
   "outputs": [],
   "source": [
    "df.drop('driverId', axis=1, inplace=True)\n",
    "df=df[['givenName', 'familyName', 'url', 'dateOfBirth', 'nationality', 'permanentNumber' ,'code']]"
   ]
  },
  {
   "cell_type": "code",
   "execution_count": null,
   "metadata": {},
   "outputs": [],
   "source": [
    "try: \n",
    "    conn = psycopg2.connect(\"host=127.0.0.1 dbname=f1_api user=postgres password=admin\")\n",
    "except psycopg2.Error as e: \n",
    "    print(\"Error: Could not make connection to the Postgres database\")\n",
    "    print(e)\n",
    "try: \n",
    "    cur = conn.cursor()\n",
    "except psycopg2.Error as e: \n",
    "    print(\"Error: Could not get cursor to the Database\")\n",
    "    print(e)\n",
    "conn.set_session(autocommit=True)"
   ]
  },
  {
   "cell_type": "code",
   "execution_count": null,
   "metadata": {},
   "outputs": [],
   "source": [
    "for i, row in df.iterrows():\n",
    "    cur.execute(drivers_table_insert, row.tolist())"
   ]
  },
  {
   "cell_type": "code",
   "execution_count": null,
   "metadata": {},
   "outputs": [],
   "source": [
    "conn.close()"
   ]
  }
 ],
 "metadata": {
  "kernelspec": {
   "display_name": "Python 3.8.3 ('base')",
   "language": "python",
   "name": "python3"
  },
  "language_info": {
   "codemirror_mode": {
    "name": "ipython",
    "version": 3
   },
   "file_extension": ".py",
   "mimetype": "text/x-python",
   "name": "python",
   "nbconvert_exporter": "python",
   "pygments_lexer": "ipython3",
   "version": "3.8.3"
  },
  "orig_nbformat": 4,
  "vscode": {
   "interpreter": {
    "hash": "85d35b7079164753349e1742be122a5f0cc8445a56c1bc9b86bf5b0df18738e4"
   }
  }
 },
 "nbformat": 4,
 "nbformat_minor": 2
}
